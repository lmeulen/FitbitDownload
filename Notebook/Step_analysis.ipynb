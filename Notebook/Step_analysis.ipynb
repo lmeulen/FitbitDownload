{
 "cells": [
  {
   "cell_type": "markdown",
   "metadata": {},
   "source": [
    "# Import section\n",
    "Import neccessary libraries for later use"
   ]
  },
  {
   "cell_type": "code",
   "execution_count": null,
   "metadata": {},
   "outputs": [],
   "source": [
    "# Import libraries\n",
    "import csv\n",
    "import sys, os\n",
    "import sqlite3\n",
    "import calmap\n",
    "import numpy as np\n",
    "import pandas as pd\n",
    "import matplotlib.pyplot as plt\n",
    "import matplotlib.dates as mdates\n",
    "import seaborn as sns\n",
    "from datetime import datetime, timedelta\n",
    "from datetime import timedelta\n",
    "from collections import deque\n",
    "from scipy.stats import gaussian_kde"
   ]
  },
  {
   "cell_type": "markdown",
   "metadata": {},
   "source": [
    "# Read data\n",
    "Import data from the SQLite database.\n",
    "At this point only the following data is read:\n",
    "\n",
    "| dataframe | content |\n",
    "|-----------|---------|\n",
    "| data      | Daily summaries |\n",
    "| activities|Trainingen|"
   ]
  },
  {
   "cell_type": "code",
   "execution_count": null,
   "metadata": {},
   "outputs": [],
   "source": [
    "# Read data from the SQLite database\n",
    "db_connection = sqlite3.connect('../data/fitbit.db')\n",
    "data = pd.read_sql(\"select * from daily_summary\",db_connection)\n",
    "activities = pd.read_sql(\"select * from Training\",db_connection)"
   ]
  },
  {
   "cell_type": "markdown",
   "metadata": {},
   "source": [
    "# Data wrangling\n",
    "Perform some generic data wrangling activities.\n",
    "<BR/>\n",
    "The following fields are added to the daily summary dataframe:\n",
    "* Date, replaces original string version of the date\n",
    "* Year, Month, Week, Weekday, Day\n",
    "* YearMonth, YearWeek: combination of year and month or week number\n",
    "* Awake Percentage, calculated percentage of awake time\n",
    "* SLeep Start Hour, Wake Up Hour"
   ]
  },
  {
   "cell_type": "code",
   "execution_count": null,
   "metadata": {},
   "outputs": [],
   "source": [
    "# Data wrangling\n",
    "\n",
    "#Remove empty entrie\n",
    "data = data[data['Steps'].notnull()]\n",
    "\n",
    "# Convert data column to date type\n",
    "data['Date'] = pd.to_datetime(data['Date'])\n",
    "# Create weeknumber\n",
    "data['Year'] = data['Date'].dt.year\n",
    "data['Month'] = data['Date'].dt.month\n",
    "data['Week'] = data['Date'].dt.week\n",
    "data['Weekday'] = data['Date'].dt.weekday\n",
    "data['Day'] = data['Date'].dt.day\n",
    "data['YearMonth'] = (data['Year'] % 100) * 100 + data['Month']\n",
    "data['YearWeek'] = (data['Year'] % 100) * 100 + data['Week']\n",
    "\n",
    "# Same for activities\n",
    "activities['Date'] = pd.to_datetime(activities['Date'])\n",
    "activities['Year'] = activities['Date'].dt.year\n",
    "activities['Month'] = activities['Date'].dt.month\n",
    "activities['Week'] = activities['Date'].dt.week\n",
    "activities['Weekday'] = activities['Date'].dt.weekday\n",
    "activities['Day'] = activities['Date'].dt.day\n",
    "activities['YearMonth'] = (activities['Year'] % 100) * 100 + activities['Month']\n",
    "activities['YearWeek'] = (activities['Year'] % 100) * 100 + activities['Week']\n",
    "\n",
    "\n",
    "# Percentage of awake time to time in bed (related to efficiency)\n",
    "data['Awake Percentage'] = data['Sleep Minutes Awake']/data['Time in Bed']*100 \n",
    "\n",
    "# Sleep start hour. \n",
    "dt_format = \"%Y-%m-%dT%H:%M:%S.%f\"\n",
    "data['Sleep Start Hour'] = data['Sleep Start Time'].map(lambda x: (datetime.strptime(str(x),dt_format)).hour+(datetime.strptime(str(x),dt_format)).minute/60.0, na_action = 'ignore')\n",
    "# If the hour is after noon, then subtract 12 so that midnight becomes the 0 reference.\n",
    "\n",
    "# Midnight is the baseline so that hours can be either + or - from midnight\n",
    "ind = data[data['Sleep Start Hour'] > 12.0].index.tolist()\n",
    "data.loc[ind,'Sleep Start Hour'] = data['Sleep Start Hour'].iloc[ind] - 24.0\n",
    "\n",
    "#Waking up time\n",
    "data['Wake Up Hour'] = data['Sleep Start Hour']+data['Time in Bed']/60\n",
    "\n",
    "data.tail(5)"
   ]
  },
  {
   "cell_type": "code",
   "execution_count": null,
   "metadata": {},
   "outputs": [],
   "source": [
    "st_mon = data['Steps'].groupby(data['YearMonth']).mean()\n",
    "\n",
    "fig,axes = plt.subplots(figsize = (18,12), nrows = 2, ncols = 1)\n",
    "\n",
    "plt.sca(axes[0])\n",
    "_ = data.boxplot(column='Steps', by='YearMonth', ax =axes[0])\n",
    "_ = plt.xticks(np.linspace(1,19,19))\n",
    "_ = plt.title('Steps per month (sum)')\n",
    "\n",
    "plt.sca(axes[1])\n",
    "st_mon.plot(kind = 'bar', alpha = 0.5)\n",
    "r = plt.title('Median step count over the months')"
   ]
  },
  {
   "cell_type": "code",
   "execution_count": null,
   "metadata": {},
   "outputs": [],
   "source": [
    "st_week = data.groupby(['Year', 'Week'])['Steps'].mean()\n",
    "st_week.plot(kind = 'bar', alpha = 0.5, figsize = (18,5))\n",
    "r = plt.title('Median step count over the weeks')"
   ]
  },
  {
   "cell_type": "code",
   "execution_count": null,
   "metadata": {},
   "outputs": [],
   "source": [
    "st_week_2017 = data[data['Year'] == 2017].groupby(['Week'])['Steps'].sum()\n",
    "st_week_2018 = data[data['Year'] == 2018].groupby(['Week'])['Steps'].sum()\n",
    "st_week_2019 = data[data['Year'] == 2019].groupby(['Week'])['Steps'].sum()\n",
    "\n",
    "pd_2017 = pd.DataFrame(st_week_2017)\n",
    "pd_2017.columns = ['2017']\n",
    "pd_2018 = pd.DataFrame(st_week_2018)\n",
    "pd_2018.columns = ['2018']\n",
    "pd_2019 = pd.DataFrame(st_week_2019)\n",
    "pd_2019.columns = ['2019']\n",
    "ax = pd_2017.plot(figsize = (18,8))\n",
    "pd_2018.plot(ax=ax)\n",
    "pd_2019.plot(ax=ax)\n",
    "ax.set_title('Steps per week')\n",
    "r = ax.set_ylabel('Total steps')"
   ]
  },
  {
   "cell_type": "code",
   "execution_count": null,
   "metadata": {},
   "outputs": [],
   "source": [
    "pd_2017_sum = pd_2017.cumsum()\n",
    "pd_2018_sum = pd_2018.cumsum()\n",
    "pd_2019_sum = pd_2019.cumsum()\n",
    "\n",
    "ax = pd_2017_sum.plot(figsize = (18,8))\n",
    "pd_2018_sum.plot(ax=ax)\n",
    "pd_2019_sum.plot(ax=ax)\n",
    "ax.set_title('Cumultive Steps over the year')\n",
    "r = ax.set_ylabel('Total steps')"
   ]
  },
  {
   "cell_type": "code",
   "execution_count": null,
   "metadata": {},
   "outputs": [],
   "source": [
    "# Delta 2019 tov 2018\n",
    "delta = pd.DataFrame(pd_2019_sum)\n",
    "delta['2018'] = pd.DataFrame(pd_2018_sum)\n",
    "delta['Verschil'] = delta['2019'] - delta['2018']\n",
    "dt = delta['Verschil']\n",
    "axs = dt.plot(figsize = (18,6))\n",
    "axs.set_ylim(-125000,0)\n",
    "r = axs.set_title(\"Total diffence (cummulative) over the year\")"
   ]
  },
  {
   "cell_type": "code",
   "execution_count": null,
   "metadata": {},
   "outputs": [],
   "source": [
    "# Read step data per minute\n",
    "steps_1min = pd.read_sql(\"select * from Steps_1m\",db_connection)"
   ]
  },
  {
   "cell_type": "code",
   "execution_count": null,
   "metadata": {},
   "outputs": [],
   "source": [
    "# create hourly figures\n",
    "steps_1min['DateTime'] = pd.to_datetime(steps_1min['Date'] + ' ' + steps_1min['Time'], format='%Y-%m-%d %H:%M:%S')\n",
    "steps_1min = pd.DataFrame(steps_1min)\n",
    "steps_1min.index = pd.DatetimeIndex(steps_1min['DateTime'])\n",
    "steps_1u = pd.DataFrame()\n",
    "steps_1u['steps'] = steps_1min.Steps.resample('H').sum()"
   ]
  },
  {
   "cell_type": "code",
   "execution_count": null,
   "metadata": {},
   "outputs": [],
   "source": [
    "steps_1u['Hour'] = steps_1u.index.hour\n",
    "hour_steps = steps_1u.groupby([steps_1u.Hour]).mean()\n",
    "plt.figure(figsize=(16,6))\n",
    "plt.bar(hour_steps.index, hour_steps.steps)\n",
    "plt.ylim(bottom=40)\n",
    "plt.title(\"Steps per hour\")\n",
    "r = plt.xticks(hour_steps.index)"
   ]
  },
  {
   "cell_type": "code",
   "execution_count": null,
   "metadata": {},
   "outputs": [],
   "source": [
    "# Heatmap steps per day\n",
    "daily_steps = pd.DataFrame()\n",
    "daily_steps['Date'] = data['Date']\n",
    "daily_steps['Steps'] = data['Steps']\n",
    "\n",
    "series = daily_steps\n",
    "series['Date'] = pd.to_datetime(series['Date'], format='%Y-%m-%d')\n",
    "series = series.set_index('Date')\n",
    "series= pd.Series(series['Steps'], index = series.index)\n",
    "r = calmap.calendarplot(series, monthticks=1, daylabels='MTWTFSS',\n",
    "                    dayticks=1, linewidth=0,\n",
    "                    fig_kws=dict(figsize=(16, 6)))"
   ]
  },
  {
   "cell_type": "code",
   "execution_count": null,
   "metadata": {},
   "outputs": [],
   "source": [
    "# Steps per day of the week\n",
    "weekday_steps = data.groupby(['Weekday']).mean()['Steps']\n",
    "weekday_steps_tot = data.groupby(['Weekday']).sum()['Steps']\n",
    "day_labels = ['Mon', 'Tue', 'Wed', 'Thu', 'Fri', 'Sat', 'Sun']\n",
    "\n",
    "fig,axes = plt.subplots(figsize = (16,6),nrows = 1, ncols = 2)\n",
    "\n",
    "plt.sca(axes[0])\n",
    "ax = axes[0]\n",
    "ax.bar(weekday_steps.index, weekday_steps)\n",
    "plt.xticks(weekday_steps.index, day_labels)\n",
    "plt.ylim(bottom=8000)\n",
    "plt.title('Mean steps per day of the week')\n",
    "\n",
    "plt.sca(axes[1])\n",
    "ax = axes[1]\n",
    "ax.bar(weekday_steps_tot.index, weekday_steps_tot)\n",
    "plt.xticks(weekday_steps_tot.index, day_labels)\n",
    "plt.ylim(bottom=700000)\n",
    "r= plt.title('Total steps per day of the week')"
   ]
  },
  {
   "cell_type": "code",
   "execution_count": null,
   "metadata": {},
   "outputs": [],
   "source": [
    "# Show days with most and least steps taken\n",
    "\n",
    "largest = daily_steps.nlargest(5, 'Steps')\n",
    "smallest = daily_steps[daily_steps['Steps'] > 1000]\n",
    "smallest = smallest.nsmallest(5, 'Steps', keep='last')\n",
    "\n",
    "fig,axes = plt.subplots(figsize = (16,6),nrows = 1, ncols = 2)\n",
    "plt.sca(axes[0])\n",
    "ax = axes[0]\n",
    "ax.barh([1,2,3,4,5], largest.Steps)\n",
    "dates = largest.Date.tolist()\n",
    "dates = [datetime.strftime(i, \"%Y-%m-%d\") for i in dates]\n",
    "plt.yticks([1,2,3,4,5], dates)\n",
    "plt.xlim(left=10000, right=60000)\n",
    "plt.title('Days with most steps')\n",
    "plt.gca().invert_yaxis()\n",
    "for i, v in enumerate(largest.Steps):\n",
    "    ax.text(v, i + 1, str(v), color='blue', fontweight='bold')\n",
    "    \n",
    "plt.sca(axes[1])\n",
    "ax = axes[1]\n",
    "ax.barh([1,2,3,4,5], smallest.Steps)\n",
    "dates = smallest.Date.tolist()\n",
    "dates = [datetime.strftime(i, \"%Y-%m-%d\") for i in dates]\n",
    "plt.yticks([1,2,3,4,5], dates)\n",
    "plt.xlim(left=0, right=3500)\n",
    "plt.title('Days with least steps')\n",
    "plt.gca().invert_yaxis()\n",
    "for i, v in enumerate(smallest.Steps):\n",
    "    ax.text(v, i + 1, str(v), color='blue', fontweight='bold')\n"
   ]
  },
  {
   "cell_type": "code",
   "execution_count": null,
   "metadata": {},
   "outputs": [],
   "source": [
    "# Read heart rate data per minute\n",
    "hr_1min = pd.read_sql(\"select * from Heartrate\",db_connection)\n",
    "# create hourly figures\n",
    "hr_1min['DateTime'] = pd.to_datetime(hr_1min['Date'] + ' ' + hr_1min['Time'], format='%Y-%m-%d %H:%M:%S')\n",
    "hr_1min = pd.DataFrame(hr_1min)\n",
    "hr_1min.index = pd.DatetimeIndex(hr_1min['DateTime'])\n",
    "hr_1u = pd.DataFrame()\n",
    "hr_1u['heartrate'] = hr_1min['Heart Rate'].resample('H').mean()\n",
    "hr_1u['Hour'] = hr_1u.index.hour"
   ]
  },
  {
   "cell_type": "code",
   "execution_count": null,
   "metadata": {},
   "outputs": [],
   "source": [
    "# Hourly heart rate (average) data\n",
    "hour_hr = hr_1u.groupby([hr_1u.Hour]).mean()\n",
    "plt.figure(figsize=(16,6))\n",
    "plt.bar(hour_hr.index, hour_hr.heartrate)\n",
    "plt.ylim(bottom=40)\n",
    "plt.title(\"Heart rate per hour\")\n",
    "r = plt.xticks(hour_hr.index)"
   ]
  },
  {
   "cell_type": "code",
   "execution_count": null,
   "metadata": {},
   "outputs": [],
   "source": [
    "hr_steps_1u = hr_1u.join(steps_1u, lsuffix='_hr', rsuffix='_steps')\n",
    "hr_steps_1u = hr_steps_1u[hr_steps_1u['steps'] > 1000]\n",
    "\n",
    "plt.figure(figsize=(16,6))\n",
    "plt.scatter(hr_steps_1u.steps, hr_steps_1u.heartrate)\n",
    "plt.title(\"Heartrate vs Steps (hourly)\")\n",
    "plt.xlabel('Steps')\n",
    "plt.ylabel('Heart Rate')"
   ]
  },
  {
   "cell_type": "code",
   "execution_count": null,
   "metadata": {},
   "outputs": [],
   "source": [
    "# Correlation heartrate and number of steps last 3 hours\n",
    "# This correlation is less than actual steps per hour and heart rate\n",
    "hs1u = hr_steps_1u['steps'].rolling(2).sum()\n",
    "hs1u = pd.DataFrame(hs1u)\n",
    "hs1u['heartrate'] = hr_steps_1u['heartrate']\n",
    "plt.figure(figsize=(16,6))\n",
    "plt.scatter(hs1u.steps, hr_steps_1u.heartrate)\n",
    "plt.title(\"Heartrate vs Steps (3 hour sum)\")\n",
    "plt.xlabel('Steps')\n",
    "plt.ylabel('Heart Rate')"
   ]
  },
  {
   "cell_type": "code",
   "execution_count": null,
   "metadata": {},
   "outputs": [],
   "source": [
    "# Steps per day histogram\n",
    "fig, ax = plt.subplots(figsize=(16,6))\n",
    "\n",
    "daily_steps.hist(column=[\"Steps\"], grid=False, bins=100, figsize = (18,6), ax=ax)\n",
    "plt.xlabel('Steps')\n",
    "plt.ylabel('Frequency')\n",
    "_ = plt.title('Steps per day histogram')"
   ]
  },
  {
   "cell_type": "code",
   "execution_count": null,
   "metadata": {},
   "outputs": [],
   "source": [
    "# Histogram per day of the week\n",
    "daily_steps['Weekday'] = daily_steps['Date'].dt.weekday\n",
    "weekdays = ['Mon','Tue','Wed','Thur','Fri','Sat','Sun']\n",
    "daily_steps_per_day = []\n",
    "fig, ax = plt.subplots(figsize=(16,6))\n",
    "for x in range(7):\n",
    "    steps = daily_steps[daily_steps['Weekday'] == x]\n",
    "    density = gaussian_kde(steps['Steps'])\n",
    "    xs = np.linspace(0,60000,60000)\n",
    "    density.covariance_factor = lambda : .25\n",
    "    density._compute_covariance()\n",
    "    ax.plot(density(xs), label=weekdays[x])\n",
    "plt.xlabel('Steps')\n",
    "plt.ylabel('Frequency')\n",
    "plt.legend()\n",
    "r = plt.title('Steps per day of week histogram')"
   ]
  },
  {
   "cell_type": "code",
   "execution_count": null,
   "metadata": {},
   "outputs": [],
   "source": [
    "st_week = pd.DataFrame(data.groupby(['YearWeek'])['Steps'].sum().tail(20))\n",
    "x = [(i-len(st_week)+1) for i in range(len(st_week))]\n",
    "plt.figure(figsize=(16,6))\n",
    "plt.bar(x,st_week.Steps)\n",
    "plt.ylim(bottom=0)\n",
    "plt.title(\"Steps per week (last 20 weeks)\")\n",
    "plt.xlabel(\"Week\")\n",
    "plt.ylabel(\"Steps\")\n",
    "r = plt.xticks(x)"
   ]
  },
  {
   "cell_type": "code",
   "execution_count": null,
   "metadata": {},
   "outputs": [],
   "source": [
    "st_week['dSteps'] = st_week['Steps'] - st_week['Steps'].shift(1)"
   ]
  },
  {
   "cell_type": "code",
   "execution_count": null,
   "metadata": {},
   "outputs": [],
   "source": [
    "st_week.tail(10)"
   ]
  },
  {
   "cell_type": "code",
   "execution_count": null,
   "metadata": {},
   "outputs": [],
   "source": [
    "st_week_2019 = st_week[st_week.index>1900]\n",
    "\n",
    "plt.figure(figsize=(16,6))\n",
    "plt.bar(st_week_2019.index, st_week_2019.dSteps)\n",
    "plt.ylim(bottom=40)\n",
    "plt.title(\"Delta number of steps compared to last week\")\n",
    "plt.ylim(bottom=-20000, top=20000)\n",
    "plt.axhline(y=0)\n",
    "plt.axhline(y=10000, linestyle=':')\n",
    "plt.axhline(y=-10000, linestyle=':')\n",
    "_ = plt.xticks(st_week_2019.index)"
   ]
  },
  {
   "cell_type": "code",
   "execution_count": null,
   "metadata": {},
   "outputs": [],
   "source": [
    "MIN_STEPS_TRAINING = 5000\n",
    "wandelingen = activities[activities['Steps'] >= MIN_STEPS_TRAINING]"
   ]
  },
  {
   "cell_type": "code",
   "execution_count": null,
   "metadata": {},
   "outputs": [],
   "source": [
    "trainafstand_2017 = wandelingen[wandelingen['Year'] == 2017].groupby(['Week'])['Steps'].sum()\n",
    "trainafstand_2018 = wandelingen[wandelingen['Year'] == 2018].groupby(['Week'])['Steps'].sum()\n",
    "trainafstand_2019 = wandelingen[wandelingen['Year'] == 2019].groupby(['Week'])['Steps'].sum()\n",
    "\n",
    "ta_2017 = pd.DataFrame(trainafstand_2017)\n",
    "ta_2017.columns = ['2017']\n",
    "ta_2018 = pd.DataFrame(trainafstand_2018)\n",
    "ta_2018.columns = ['2018']\n",
    "ta_2019 = pd.DataFrame(trainafstand_2019)\n",
    "ta_2019.columns = ['2019']\n",
    "ax = ta_2017.plot(figsize = (18,8))\n",
    "ta_2018.plot(ax=ax)\n",
    "ta_2019.plot(ax=ax)\n",
    "ax.set_title('Training steps per week (min ' + str(MIN_STEPS_TRAINING) + ' steps / activity)')\n",
    "r = ax.set_ylabel('Total steps')"
   ]
  },
  {
   "cell_type": "code",
   "execution_count": null,
   "metadata": {},
   "outputs": [],
   "source": [
    "ta_2017_sum = ta_2017.cumsum()\n",
    "ta_2018_sum = ta_2018.cumsum()\n",
    "ta_2019_sum = ta_2019.cumsum()\n",
    "\n",
    "ax = ta_2017_sum.plot(figsize = (18,8))\n",
    "ta_2018_sum.plot(ax=ax)\n",
    "ta_2019_sum.plot(ax=ax)\n",
    "ax.set_title('Cumultive Trainimg Steps over the year')\n",
    "r = ax.set_ylabel('Total steps')"
   ]
  },
  {
   "cell_type": "code",
   "execution_count": null,
   "metadata": {},
   "outputs": [],
   "source": [
    "# Delta 2019 tov 2018\n",
    "delta = pd.DataFrame(ta_2019_sum)\n",
    "delta['2018'] = pd.DataFrame(ta_2018_sum)\n",
    "delta['Verschil'] = delta['2019'] - delta['2018']\n",
    "dt = delta['Verschil']\n",
    "\n",
    "fig, ax = plt.subplots(figsize=(18,6))\n",
    "g = sns.lineplot(data=dt, ax=ax)\n",
    "r = ax.set_title(\"Total diffence (cummulative) over the year\")\n",
    "_ = plt.xlabel('Week')\n",
    "_ = plt.ylabel('Steps')\n",
    "_ = plt.axhline(y=0, linestyle=':')\n",
    "plt.show()"
   ]
  },
  {
   "cell_type": "code",
   "execution_count": null,
   "metadata": {},
   "outputs": [],
   "source": []
  }
 ],
 "metadata": {
  "kernelspec": {
   "display_name": "Python 3",
   "language": "python",
   "name": "python3"
  },
  "language_info": {
   "codemirror_mode": {
    "name": "ipython",
    "version": 3
   },
   "file_extension": ".py",
   "mimetype": "text/x-python",
   "name": "python",
   "nbconvert_exporter": "python",
   "pygments_lexer": "ipython3",
   "version": "3.6.6"
  }
 },
 "nbformat": 4,
 "nbformat_minor": 2
}

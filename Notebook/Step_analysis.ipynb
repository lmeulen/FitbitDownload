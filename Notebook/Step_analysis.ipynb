{
 "cells": [
  {
   "cell_type": "code",
   "execution_count": null,
   "metadata": {},
   "outputs": [],
   "source": [
    "# Import libraries\n",
    "import csv\n",
    "import sys, os\n",
    "import sqlite3\n",
    "import calmap\n",
    "import numpy as np\n",
    "import pandas as pd\n",
    "import matplotlib.pyplot as plt\n",
    "from datetime import datetime, timedelta\n",
    "from datetime import timedelta\n",
    "from collections import deque"
   ]
  },
  {
   "cell_type": "code",
   "execution_count": null,
   "metadata": {},
   "outputs": [],
   "source": [
    "# Read data from the SQLite database\n",
    "db_connection = sqlite3.connect('../data/fitbit.db')\n",
    "data = pd.read_sql(\"select * from daily_summary\",db_connection)\n",
    "print(data.size)\n",
    "data.head(3)"
   ]
  },
  {
   "cell_type": "code",
   "execution_count": null,
   "metadata": {},
   "outputs": [],
   "source": [
    "# Data wrangling\n",
    "\n",
    "#Remove empty entrie\n",
    "data = data[data['Steps'].notnull()]\n",
    "\n",
    "# Convert data column to date type\n",
    "data['Date'] = pd.to_datetime(data['Date'])\n",
    "# Create weeknumber\n",
    "data['Year'] = data['Date'].dt.year\n",
    "data['Month'] = data['Date'].dt.month\n",
    "data['Week'] = data['Date'].dt.week\n",
    "data['Weekday'] = data['Date'].dt.weekday\n",
    "data['Day'] = data['Date'].dt.day\n",
    "data['YearMonth'] = (data['Year'] % 100) * 100 + data['Month']\n",
    "data['YearWeek'] = (data['Year'] % 100) * 100 + data['Week']\n",
    "\n",
    "# Percentage of awake time to time in bed (related to efficiency)\n",
    "data['Awake Percentage'] = data['Sleep Minutes Awake']/data['Time in Bed']*100 \n",
    "\n",
    "# Sleep start hour. \n",
    "dt_format = \"%Y-%m-%dT%H:%M:%S.%f\"\n",
    "data['Sleep Start Hour'] = data['Sleep Start Time'].map(lambda x: (datetime.strptime(str(x),dt_format)).hour+(datetime.strptime(str(x),dt_format)).minute/60.0, na_action = 'ignore')\n",
    "# If the hour is after noon, then subtract 12 so that midnight becomes the 0 reference.\n",
    "\n",
    "# Midnight is the baseline so that hours can be either + or - from midnight\n",
    "ind = data[data['Sleep Start Hour'] > 12.0].index.tolist()\n",
    "data.loc[ind,'Sleep Start Hour'] = data['Sleep Start Hour'].iloc[ind] - 24.0\n",
    "\n",
    "#Waking up time\n",
    "data['Wake Up Hour'] = data['Sleep Start Hour']+data['Time in Bed']/60\n",
    "\n",
    "data.head(5)"
   ]
  },
  {
   "cell_type": "code",
   "execution_count": null,
   "metadata": {},
   "outputs": [],
   "source": [
    "st_mon = data['Steps'].groupby(data['YearMonth']).mean()\n",
    "\n",
    "fig,axes = plt.subplots(figsize = (18,12), nrows = 2, ncols = 1)\n",
    "\n",
    "plt.sca(axes[0])\n",
    "d = data.boxplot(column='Steps', by='YearMonth', ax =axes[0])\n",
    "d = plt.xticks(np.linspace(1,18,18))\n",
    "\n",
    "plt.sca(axes[1])\n",
    "st_mon.plot(kind = 'bar', alpha = 0.5)\n",
    "plt.title('Median step count over the months')"
   ]
  },
  {
   "cell_type": "code",
   "execution_count": null,
   "metadata": {},
   "outputs": [],
   "source": [
    "st_week = data.groupby(['Year', 'Week'])['Steps'].mean()\n",
    "st_week.plot(kind = 'bar', alpha = 0.5, figsize = (18,5))\n",
    "plt.title('Median step count over the weeks')"
   ]
  },
  {
   "cell_type": "code",
   "execution_count": null,
   "metadata": {},
   "outputs": [],
   "source": [
    "st_week_2017 = data[data['Year'] == 2017].groupby(['Week'])['Steps'].sum()\n",
    "st_week_2018 = data[data['Year'] == 2018].groupby(['Week'])['Steps'].sum()\n",
    "st_week_2019 = data[data['Year'] == 2019].groupby(['Week'])['Steps'].sum()\n",
    "\n",
    "pd_2017 = pd.DataFrame(st_week_2017)\n",
    "pd_2017.columns = ['2017']\n",
    "pd_2018 = pd.DataFrame(st_week_2018)\n",
    "pd_2018.columns = ['2018']\n",
    "pd_2019 = pd.DataFrame(st_week_2019)\n",
    "pd_2019.columns = ['2019']\n",
    "ax = pd_2017.plot(figsize = (18,8))\n",
    "pd_2018.plot(ax=ax)\n",
    "pd_2019.plot(ax=ax)\n",
    "ax.set_title('Steps per week')\n",
    "ax.set_ylabel('Total steps')"
   ]
  },
  {
   "cell_type": "code",
   "execution_count": null,
   "metadata": {},
   "outputs": [],
   "source": [
    "# Read step data per minute\n",
    "steps_1min = pd.read_sql(\"select * from Steps_1m\",db_connection)"
   ]
  },
  {
   "cell_type": "code",
   "execution_count": null,
   "metadata": {},
   "outputs": [],
   "source": [
    "# create hourly figures\n",
    "steps_1min['DateTime'] = pd.to_datetime(steps_1min['Date'] + ' ' + steps_1min['Time'], format='%Y-%m-%d %H:%M:%S')\n",
    "steps_1min = pd.DataFrame(steps_1min)\n",
    "steps_1min.index = pd.DatetimeIndex(steps_1min['DateTime'])\n",
    "steps_1u = pd.DataFrame()\n",
    "steps_1u['steps'] = steps_1min.Steps.resample('H').sum()\n",
    "steps_1u.tail(5)"
   ]
  },
  {
   "cell_type": "code",
   "execution_count": null,
   "metadata": {},
   "outputs": [],
   "source": [
    "steps_1u['Hour'] = steps_1u.index.hour\n",
    "hour_steps = steps_1u.groupby([steps_1u.Hour]).mean()\n",
    "hour_steps.plot.bar()"
   ]
  },
  {
   "cell_type": "code",
   "execution_count": null,
   "metadata": {},
   "outputs": [],
   "source": [
    "hour_steps.head()"
   ]
  },
  {
   "cell_type": "code",
   "execution_count": null,
   "metadata": {},
   "outputs": [],
   "source": [
    "daily_steps = pd.DataFrame()\n",
    "daily_steps['Date'] = data['Date']\n",
    "daily_steps['Steps'] = data['Steps']\n",
    "daily_steps.head(3)"
   ]
  },
  {
   "cell_type": "code",
   "execution_count": null,
   "metadata": {},
   "outputs": [],
   "source": [
    "# Heatmap steps per day\n",
    "series = daily_steps\n",
    "series['Date'] = pd.to_datetime(series['Date'], format='%Y-%m-%d')\n",
    "series = series.set_index('Date')\n",
    "series= pd.Series(series['Steps'], index = series.index)\n",
    "calmap.calendarplot(series, monthticks=3, daylabels='MTWTFSS',\n",
    "                    dayticks=[0, 2, 4, 6], linewidth=0,\n",
    "                    fig_kws=dict(figsize=(12, 6)))"
   ]
  },
  {
   "cell_type": "code",
   "execution_count": null,
   "metadata": {},
   "outputs": [],
   "source": []
  },
  {
   "cell_type": "code",
   "execution_count": null,
   "metadata": {},
   "outputs": [],
   "source": []
  }
 ],
 "metadata": {
  "kernelspec": {
   "display_name": "Python 3",
   "language": "python",
   "name": "python3"
  },
  "language_info": {
   "codemirror_mode": {
    "name": "ipython",
    "version": 3
   },
   "file_extension": ".py",
   "mimetype": "text/x-python",
   "name": "python",
   "nbconvert_exporter": "python",
   "pygments_lexer": "ipython3",
   "version": "3.6.6"
  }
 },
 "nbformat": 4,
 "nbformat_minor": 2
}
